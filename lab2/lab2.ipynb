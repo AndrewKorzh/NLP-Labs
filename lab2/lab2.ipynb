{
 "cells": [
  {
   "cell_type": "code",
   "execution_count": 1,
   "metadata": {},
   "outputs": [],
   "source": [
    "import os \n",
    "\n",
    "import numpy as np\n",
    "import pandas as pd\n",
    "\n",
    "from sklearn.model_selection import train_test_split, cross_val_score\n",
    "from sklearn.feature_extraction.text import TfidfVectorizer\n",
    "from sklearn.linear_model import LogisticRegression\n",
    "\n",
    "from sklearn.metrics import accuracy_score\n",
    "\n"
   ]
  },
  {
   "cell_type": "code",
   "execution_count": 2,
   "metadata": {},
   "outputs": [],
   "source": [
    "arc_path = \"C:\\\\Programming\\\\univer\\\\NPL\\\\Lab2\\\\aclImdb\"\n",
    "\n",
    "pos_train_path = arc_path + \"\\\\train\\\\pos\"\n",
    "neg_train_path = arc_path + \"\\\\train\\\\neg\"\n",
    "\n",
    "pos_file_names = os.listdir(pos_train_path)\n",
    "neg_file_names = os.listdir(neg_train_path)"
   ]
  },
  {
   "cell_type": "code",
   "execution_count": 3,
   "metadata": {},
   "outputs": [],
   "source": [
    "bound = 30000\n",
    "\n",
    "error_list = []\n",
    "\n",
    "pos_list = []\n",
    "for index, pos_file_name in enumerate(pos_file_names):\n",
    "    with open(f\"{pos_train_path}\\\\{pos_file_name}\", \"r\") as file:\n",
    "        try:\n",
    "            pos_list.append(file.read())\n",
    "        except:\n",
    "            error_list.append(f\"pos: {pos_file_name}\")\n",
    "    if index + 1 >= bound:\n",
    "        break\n",
    "\n",
    "neg_list = []\n",
    "for index, neg_file_name in enumerate(neg_file_names):\n",
    "    with open(f\"{neg_train_path}\\\\{neg_file_name}\", \"r\") as file:\n",
    "        try:\n",
    "            neg_list.append(file.read())\n",
    "        except:\n",
    "            error_list.append(f\"neg: {neg_file_name}\")\n",
    "    if index + 1 >= bound:\n",
    "        break"
   ]
  },
  {
   "cell_type": "code",
   "execution_count": 4,
   "metadata": {},
   "outputs": [
    {
     "name": "stdout",
     "output_type": "stream",
     "text": [
      "Head:\n",
      "                                                 pos  \\\n",
      "0  Bromwell High is a cartoon comedy. It ran at t...   \n",
      "1  Homelessness (or Houselessness as George Carli...   \n",
      "2  Brilliant over-acting by Lesley Ann Warren. Be...   \n",
      "\n",
      "                                                 neg  \n",
      "0  Story of a man who has unnatural feelings for ...  \n",
      "1  Airport '77 starts as a brand new luxury 747 p...  \n",
      "2  This film lacked something I couldn't put my f...  \n",
      "\n",
      "Tail\n",
      "                                                     pos  \\\n",
      "12494  I am amazed at how this movie(and most others ...   \n",
      "12495  A Christmas Together actually came before my t...   \n",
      "12496  Working-class romantic drama from director Mar...   \n",
      "\n",
      "                                                     neg  \n",
      "12494  I saw 'Descent' last night at the Stockholm Fi...  \n",
      "12495  Some films that you pick up for a pound turn o...  \n",
      "12496  This is one of the dumbest films, I've ever se...  \n"
     ]
    }
   ],
   "source": [
    "min_len = min(len(pos_list), len(neg_list))\n",
    "df = pd.DataFrame.from_dict({\"pos\" : pos_list[:min_len], \"neg\": neg_list[:min_len]})\n",
    "\n",
    "print(\"Head:\")\n",
    "print(df.head(3))\n",
    "\n",
    "print(\"\\nTail\")\n",
    "print(df.tail(3))"
   ]
  },
  {
   "cell_type": "code",
   "execution_count": 5,
   "metadata": {},
   "outputs": [
    {
     "name": "stdout",
     "output_type": "stream",
     "text": [
      "Shuffled\n",
      "Head:\n",
      "                                                     pos  \\\n",
      "12266  I thought the film could be a bit more complex...   \n",
      "3025   He's stocky, sweaty, slightly cross-eyed and r...   \n",
      "1088   Hey now, yours truly, TheatreX, found this whi...   \n",
      "\n",
      "                                                     neg  \n",
      "12266  I really do not have any clue as to why some p...  \n",
      "3025   A thematic staple of cinema since its inceptio...  \n",
      "1088   A truly frightening film. Feels as if it were ...  \n",
      "\n",
      "Tail\n",
      "                                                    pos  \\\n",
      "6046  Samuel Fuller brings his customary playful and...   \n",
      "1160  French horror cinema has seen something of a r...   \n",
      "7176  Its a shame she didn't get screen credit , she...   \n",
      "\n",
      "                                                    neg  \n",
      "6046  Although the actors were good, specially Fritz...  \n",
      "1160  Shown in Australia as 'Hydrosphere', this incr...  \n",
      "7176  First let me be honest. I did not watch all th...  \n"
     ]
    }
   ],
   "source": [
    "shuffled_df = df.sample(frac=1)\n",
    "\n",
    "print(\"Shuffled\")\n",
    "print(\"Head:\")\n",
    "print(shuffled_df.head(3))\n",
    "\n",
    "print(\"\\nTail\")\n",
    "print(shuffled_df.tail(3))"
   ]
  },
  {
   "cell_type": "code",
   "execution_count": 6,
   "metadata": {},
   "outputs": [],
   "source": [
    "pos_docs = df['pos'].tolist() \n",
    "neg_docs = df['neg'].tolist()\n",
    "\n",
    "docs = pos_docs + neg_docs\n",
    "labels = [1] * len(pos_docs) + [0] * len(neg_docs)"
   ]
  },
  {
   "cell_type": "code",
   "execution_count": 7,
   "metadata": {},
   "outputs": [
    {
     "name": "stdout",
     "output_type": "stream",
     "text": [
      "Accuracy: 0.885741718674988\n",
      "Cross-validation scores: [0.87057411 0.86017203 0.85837167 0.85837167 0.8707483 ]\n",
      "Mean cross-validation score: 0.8636475594438615\n"
     ]
    }
   ],
   "source": [
    "vectorizer = TfidfVectorizer()\n",
    "tf_idf_matrix = vectorizer.fit_transform(docs)\n",
    "\n",
    "X_train, X_test, y_train, y_test = train_test_split(tf_idf_matrix, labels, test_size=0.25, random_state=42)\n",
    "\n",
    "classifier = LogisticRegression(max_iter=1000)\n",
    "classifier.fit(X_train, y_train)\n",
    "\n",
    "y_pred = classifier.predict(X_test)\n",
    "\n",
    "accuracy = accuracy_score(y_test, y_pred)\n",
    "print(f'Accuracy: {accuracy}')\n",
    "\n",
    "cv_scores = cross_val_score(classifier, tf_idf_matrix, labels, cv=5)\n",
    "print(f'Cross-validation scores: {cv_scores}')\n",
    "print(f'Mean cross-validation score: {cv_scores.mean()}')\n"
   ]
  },
  {
   "cell_type": "code",
   "execution_count": 9,
   "metadata": {},
   "outputs": [
    {
     "name": "stdout",
     "output_type": "stream",
     "text": [
      "The sentiment of the provided text \"This movie was fantastic and I really enjoyed it!\" is: Positive\n",
      "The sentiment of the provided text \"I didn't like this film at all. It was boring.\" is: Negative\n",
      "The sentiment of the provided text \"An absolute masterpiece, highly recommend!\" is: Positive\n",
      "The sentiment of the provided text \"The plot was predictable and the acting was poor.\" is: Negative\n"
     ]
    }
   ],
   "source": [
    "def predict_sentiment(text, classifier):\n",
    "    text_tf_idf = vectorizer.transform([text])\n",
    "    prediction = classifier.predict(text_tf_idf)\n",
    "    return \"Positive\" if prediction[0] == 1 else \"Negative\"\n",
    "\n",
    "new_texts = [\n",
    "    \"This movie was fantastic and I really enjoyed it!\",\n",
    "    \"I didn't like this film at all. It was boring.\",\n",
    "    \"An absolute masterpiece, highly recommend!\",\n",
    "    \"The plot was predictable and the acting was poor.\", \n",
    "]\n",
    "\n",
    "for text in new_texts:\n",
    "    sentiment = predict_sentiment(text, classifier)\n",
    "    print(f'The sentiment of the provided text \"{text}\" is: {sentiment}')"
   ]
  }
 ],
 "metadata": {
  "kernelspec": {
   "display_name": "Python 3",
   "language": "python",
   "name": "python3"
  },
  "language_info": {
   "codemirror_mode": {
    "name": "ipython",
    "version": 3
   },
   "file_extension": ".py",
   "mimetype": "text/x-python",
   "name": "python",
   "nbconvert_exporter": "python",
   "pygments_lexer": "ipython3",
   "version": "3.12.4"
  }
 },
 "nbformat": 4,
 "nbformat_minor": 2
}
